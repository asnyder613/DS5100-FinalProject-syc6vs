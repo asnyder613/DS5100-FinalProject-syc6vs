{
 "cells": [
  {
   "cell_type": "markdown",
   "metadata": {},
   "source": [
    "# Metadata\n",
    "\n",
    "* Title: **Final Project Report**\n",
    "* Class: DS 5100\n",
    "* Date:\n",
    "* Student Name:\n",
    "* Student Net ID:\n",
    "* This URL: <a URL to the notebook source of this document>\n",
    "* GitHub Repo URL: "
   ]
  },
  {
   "cell_type": "markdown",
   "metadata": {},
   "source": [
    "# The Monte Carlo Module"
   ]
  },
  {
   "cell_type": "code",
   "execution_count": 1,
   "metadata": {},
   "outputs": [],
   "source": [
    "import pandas as pd\n",
    "import numpy as np\n",
    "import random"
   ]
  },
  {
   "cell_type": "code",
   "execution_count": 108,
   "metadata": {},
   "outputs": [],
   "source": [
    "class Die():\n",
    "    \"\"\"\n",
    "    A class to set the characteristics of a Die to be used in a Monte Carlo simulation.\n",
    "    ...\n",
    "\n",
    "    Attributes\n",
    "    ----------\n",
    "    faces : str or int\n",
    "        an array of faces\n",
    "    weights : float\n",
    "        the weight of a given side of the die\n",
    "\n",
    "    Methods\n",
    "    -------\n",
    "    weight:\n",
    "        changes the weight of a single side of the die\n",
    "    roll:\n",
    "        rolls the die one or more times\n",
    "    reveal:\n",
    "        shows the user the die's current set of faces and weights\n",
    "    \"\"\"\n",
    "\n",
    "    def __init__(self, faces: list = []):\n",
    "        self.faces = faces\n",
    "        \n",
    "        #convert list to numpy array\n",
    "        x = np.array(self.faces)\n",
    "    \n",
    "        # test for unique values\n",
    "        uniqueFaces = np.unique(x)\n",
    "\n",
    "        #initialize array of faces into data frame that sets weight to 1.0 as default\n",
    "        self.myDie = pd.DataFrame({'Face': uniqueFaces,\n",
    "                               'Weight': 1.0})\n",
    "        \n",
    "    def changeweight(self, changeFace, newWeight):\n",
    "        \n",
    "        self.changeFace = changeFace\n",
    "        self.newWeight = newWeight\n",
    "        \n",
    "        #check to see if the face passed is valid and in die array                     \n",
    "        if not np.isin(self.changeFace, self.myDie):\n",
    "            print(\"This is not a valid face value\")\n",
    "\n",
    "       # if face is valid, check if weight is a float (or can be converted to one)\n",
    "        if isinstance(self.newWeight, str):\n",
    "            print(\"This is not a valid face value.\")\n",
    "            \n",
    "        else:            \n",
    "            if isinstance(self.newWeight, int):\n",
    "                self.newWeight = float(self.newWeight)\n",
    "            \n",
    "        #change weight in die array\n",
    "        self.myDie.loc[self.myDie['Face'].eq(str(self.changeFace)), 'Weight'] = self.newWeight\n",
    "\n",
    "    def roll(self, roll_num=1):\n",
    "        self.roll_num = int(roll_num)\n",
    "        \n",
    "        #roll the die\n",
    "        self.result = random.choices(self.myDie['Face'], weights=self.myDie['Weight'],k=self.roll_num)\n",
    "            \n",
    "        return self.result\n",
    "    \n",
    "    def reveal(self):\n",
    "        return self.myDie\n",
    "\n"
   ]
  },
  {
   "cell_type": "code",
   "execution_count": 479,
   "metadata": {},
   "outputs": [],
   "source": [
    "\n",
    "class Game():\n",
    "    \"\"\"\n",
    "    A class to create a game that rolls one or more die of the same kind one or more times\n",
    "    ...\n",
    "\n",
    "    Attributes\n",
    "    ----------\n",
    "    dieList : list\n",
    "        a list of already instantiated similar die objects\n",
    "\n",
    "    frame : str\n",
    "        \"narrow\" or \"wide\" to determine format of displayed dataframe\n",
    "\n",
    "    Methods\n",
    "    -------\n",
    "    play:\n",
    "        plays the game by rolling the die and then saves the results of the play\n",
    "\n",
    "    showResult:\n",
    "        shows the user the results of the most recent play\n",
    "    \"\"\"\n",
    "\n",
    "    def __init__(self, dieList: list = []):\n",
    "        self.dieList = dieList\n",
    "\n",
    "    def play(self, rollDie = int):\n",
    "        \n",
    "        #parameter specifying how many times the die should be rolled\n",
    "        self.rollDie = int(rollDie)\n",
    "        \n",
    "        #define list A to capture the results of the iterations\n",
    "        self.listA = []\n",
    "        \n",
    "        #loop through number of rolls\n",
    "        for i in range(1, self.rollDie):\n",
    "            \n",
    "            #define list B to capture the results of the die rolls\n",
    "            self.listB = []\n",
    "            \n",
    "            #loop through the dice\n",
    "            for die in self.dieList:\n",
    "                \n",
    "                #roll the die\n",
    "                self.result = die.roll()\n",
    "                \n",
    "                #append the results to B\n",
    "                self.listB.append(self.result[0])\n",
    "            \n",
    "            #append B to A\n",
    "            self.listA.append(self.listB)\n",
    "            \n",
    "        #convert B to a data frame\n",
    "        self.playResults = pd.DataFrame(self.listA)\n",
    "        \n",
    "        #add index/columns names to dataframe of results\n",
    "        self.playResults.index.name = 'roll_num'\n",
    "        self.playResults.columns.name = 'die_num'\n",
    "\n",
    "        \n",
    "    def showResult(self, frame=\"wide\"):\n",
    "        self.frame = frame\n",
    "        print(self.frame)\n",
    "        \n",
    "        if self.frame != \"wide\" and self.frame != \"narrow\":\n",
    "            print(\"Please select 'narrow' or 'wide' as your choice of display\")\n",
    "        else:\n",
    "            if self.frame == \"wide\":\n",
    "                return self.playResults\n",
    "            else:\n",
    "                self.narrowResult = self.playResults\n",
    "                self.narrowResult = self.narrowResult.melt(ignore_index=False)\n",
    "                self.narrowResult = self.narrowResult.reset_index().set_index(['roll_num', 'die_num'])\n",
    "                self.narrowResult.rename(columns={'value':'die_face'}, inplace=True)\n",
    "                return self.narrowResult\n"
   ]
  },
  {
   "cell_type": "code",
   "execution_count": 480,
   "metadata": {
    "jupyter": {
     "source_hidden": true
    }
   },
   "outputs": [],
   "source": [
    "class Analyzer():\n",
    "    \"\"\"\n",
    "    A class to take the results of a single game and compute various descriptive statistical properties about it\n",
    "    ...\n",
    "\n",
    "    Attributes\n",
    "    ----------\n",
    "    face counts per roll    : int\n",
    "        the number of times a given face appeared in each roll\n",
    "\n",
    "    jacokpot : int\n",
    "        the number of times a roll resulted in all faces being the same\n",
    "\n",
    "    combo   :   dataframe\n",
    "        the number of combination types of faces were rolled and their counts\n",
    "\n",
    "    permutation :   dataframe\n",
    "        the number of sequence types were rolled and their counts\n",
    "\n",
    "    Methods\n",
    "    -------\n",
    "    face counts per roll:\n",
    "        computes how many times a given face is rolled in each event\n",
    "\n",
    "    jackpot:\n",
    "        computes how many times the game resulted in all faces being identical\n",
    "\n",
    "    combo:\n",
    "        computes the distinct combinations of faces rolled, along with their counts\n",
    "    \"\"\"\n",
    "\n",
    "    def __init__(self, game):\n",
    "        self.game = rolltype = self.game.apply(type)\n",
    "        #is there a better way to \"infer\" type of each face when initializing??\n",
    "\n",
    "\n",
    "    def face_counts_per_roll(self):\n",
    "        facecounts = pd.self.game.apply(pd.Series.value_counts(axis=1))\n",
    "\n",
    "        return facecounts\n",
    "\n",
    "\n",
    "    def jackpot(self):\n",
    "        if self.facecounts.transform[self.facecounts== len(self.facecounts.axes[1])]:\n",
    "            jackpot +=1\n",
    "        jackpotresults = pd.self.facecounts.transform[self.facecounts== len(self.facecounts.axes[1])]\n",
    "        jackpotresults = pd.self.jackpotresults.transform\n",
    "        #is there a better way to do this using the rsult of combo method???\n",
    "\n",
    "        return jackpot\n",
    "\n",
    "\n",
    "    def combo(self):\n",
    "        combo = self.game.value_counts().reset_index(name='count')\n",
    "\n"
   ]
  },
  {
   "cell_type": "code",
   "execution_count": 481,
   "metadata": {},
   "outputs": [],
   "source": [
    "#create die instance\n",
    "faces1 = ['a', 1, 'b', 2, 3]\n",
    "die1 = Die(faces1)"
   ]
  },
  {
   "cell_type": "code",
   "execution_count": 482,
   "metadata": {},
   "outputs": [],
   "source": [
    "#create die instance with non-unique values\n",
    "faces2 = ['a', 'a', 2, 3, 4]\n",
    "die2 = Die(faces2)"
   ]
  },
  {
   "cell_type": "code",
   "execution_count": 483,
   "metadata": {},
   "outputs": [
    {
     "name": "stderr",
     "output_type": "stream",
     "text": [
      "/apps/software/standard/compiler/gcc/9.2.0/jupyter_conda/2020.11-py3.8/lib/python3.8/site-packages/numpy/lib/arraysetops.py:580: FutureWarning: elementwise comparison failed; returning scalar instead, but in the future will perform elementwise comparison\n",
      "  mask |= (ar1 == a)\n"
     ]
    }
   ],
   "source": [
    "#change face on die1\n",
    "die1.changeweight('a', 3.0)"
   ]
  },
  {
   "cell_type": "code",
   "execution_count": 484,
   "metadata": {},
   "outputs": [
    {
     "name": "stdout",
     "output_type": "stream",
     "text": [
      "This is not a valid face value\n"
     ]
    }
   ],
   "source": [
    "#change face on die1 with incorrect input\n",
    "die1.changeweight('c', 3.0)"
   ]
  },
  {
   "cell_type": "code",
   "execution_count": 485,
   "metadata": {},
   "outputs": [],
   "source": [
    "#change face on die1 with non-float input\n",
    "die1.changeweight(1, 5)"
   ]
  },
  {
   "cell_type": "code",
   "execution_count": 486,
   "metadata": {},
   "outputs": [
    {
     "name": "stdout",
     "output_type": "stream",
     "text": [
      "['1', 'a', 'b', '1', 'a']\n"
     ]
    }
   ],
   "source": [
    "#test roll on die1\n",
    "resultdie1 = die1.roll(5)\n",
    "print(resultdie1)"
   ]
  },
  {
   "cell_type": "code",
   "execution_count": 487,
   "metadata": {},
   "outputs": [
    {
     "data": {
      "text/html": [
       "<div>\n",
       "<style scoped>\n",
       "    .dataframe tbody tr th:only-of-type {\n",
       "        vertical-align: middle;\n",
       "    }\n",
       "\n",
       "    .dataframe tbody tr th {\n",
       "        vertical-align: top;\n",
       "    }\n",
       "\n",
       "    .dataframe thead th {\n",
       "        text-align: right;\n",
       "    }\n",
       "</style>\n",
       "<table border=\"1\" class=\"dataframe\">\n",
       "  <thead>\n",
       "    <tr style=\"text-align: right;\">\n",
       "      <th></th>\n",
       "      <th>Face</th>\n",
       "      <th>Weight</th>\n",
       "    </tr>\n",
       "  </thead>\n",
       "  <tbody>\n",
       "    <tr>\n",
       "      <th>0</th>\n",
       "      <td>1</td>\n",
       "      <td>5.0</td>\n",
       "    </tr>\n",
       "    <tr>\n",
       "      <th>1</th>\n",
       "      <td>2</td>\n",
       "      <td>1.0</td>\n",
       "    </tr>\n",
       "    <tr>\n",
       "      <th>2</th>\n",
       "      <td>3</td>\n",
       "      <td>1.0</td>\n",
       "    </tr>\n",
       "    <tr>\n",
       "      <th>3</th>\n",
       "      <td>a</td>\n",
       "      <td>3.0</td>\n",
       "    </tr>\n",
       "    <tr>\n",
       "      <th>4</th>\n",
       "      <td>b</td>\n",
       "      <td>1.0</td>\n",
       "    </tr>\n",
       "  </tbody>\n",
       "</table>\n",
       "</div>"
      ],
      "text/plain": [
       "  Face  Weight\n",
       "0    1     5.0\n",
       "1    2     1.0\n",
       "2    3     1.0\n",
       "3    a     3.0\n",
       "4    b     1.0"
      ]
     },
     "execution_count": 487,
     "metadata": {},
     "output_type": "execute_result"
    }
   ],
   "source": [
    "#test show method\n",
    "die1.reveal()"
   ]
  },
  {
   "cell_type": "code",
   "execution_count": 488,
   "metadata": {},
   "outputs": [],
   "source": [
    "#create additional die instance\n",
    "faces3 = ['a', 1, 'b', 2, 3]\n",
    "die3 = Die(faces3)\n",
    "\n",
    "#initialize dielist to use with Game class testing\n",
    "dielist1 = []\n",
    "\n",
    "#append instances of die to list\n",
    "dielist1.append(die1)\n",
    "dielist1.append(die3)"
   ]
  },
  {
   "cell_type": "code",
   "execution_count": 489,
   "metadata": {},
   "outputs": [],
   "source": [
    "#create instance of game\n",
    "game1 = Game(dielist1)"
   ]
  },
  {
   "cell_type": "code",
   "execution_count": 490,
   "metadata": {},
   "outputs": [],
   "source": [
    "#test play method\n",
    "game1.play(3)"
   ]
  },
  {
   "cell_type": "code",
   "execution_count": 491,
   "metadata": {},
   "outputs": [
    {
     "name": "stdout",
     "output_type": "stream",
     "text": [
      "wide\n"
     ]
    },
    {
     "data": {
      "text/html": [
       "<div>\n",
       "<style scoped>\n",
       "    .dataframe tbody tr th:only-of-type {\n",
       "        vertical-align: middle;\n",
       "    }\n",
       "\n",
       "    .dataframe tbody tr th {\n",
       "        vertical-align: top;\n",
       "    }\n",
       "\n",
       "    .dataframe thead th {\n",
       "        text-align: right;\n",
       "    }\n",
       "</style>\n",
       "<table border=\"1\" class=\"dataframe\">\n",
       "  <thead>\n",
       "    <tr style=\"text-align: right;\">\n",
       "      <th>die_num</th>\n",
       "      <th>0</th>\n",
       "      <th>1</th>\n",
       "    </tr>\n",
       "    <tr>\n",
       "      <th>roll_num</th>\n",
       "      <th></th>\n",
       "      <th></th>\n",
       "    </tr>\n",
       "  </thead>\n",
       "  <tbody>\n",
       "    <tr>\n",
       "      <th>0</th>\n",
       "      <td>a</td>\n",
       "      <td>1</td>\n",
       "    </tr>\n",
       "    <tr>\n",
       "      <th>1</th>\n",
       "      <td>1</td>\n",
       "      <td>3</td>\n",
       "    </tr>\n",
       "  </tbody>\n",
       "</table>\n",
       "</div>"
      ],
      "text/plain": [
       "die_num   0  1\n",
       "roll_num      \n",
       "0         a  1\n",
       "1         1  3"
      ]
     },
     "execution_count": 491,
     "metadata": {},
     "output_type": "execute_result"
    }
   ],
   "source": [
    "#test showResult method\n",
    "game1.showResult()"
   ]
  },
  {
   "cell_type": "code",
   "execution_count": 492,
   "metadata": {},
   "outputs": [
    {
     "name": "stdout",
     "output_type": "stream",
     "text": [
      "narrow\n"
     ]
    },
    {
     "data": {
      "text/html": [
       "<div>\n",
       "<style scoped>\n",
       "    .dataframe tbody tr th:only-of-type {\n",
       "        vertical-align: middle;\n",
       "    }\n",
       "\n",
       "    .dataframe tbody tr th {\n",
       "        vertical-align: top;\n",
       "    }\n",
       "\n",
       "    .dataframe thead th {\n",
       "        text-align: right;\n",
       "    }\n",
       "</style>\n",
       "<table border=\"1\" class=\"dataframe\">\n",
       "  <thead>\n",
       "    <tr style=\"text-align: right;\">\n",
       "      <th></th>\n",
       "      <th></th>\n",
       "      <th>die_face</th>\n",
       "    </tr>\n",
       "    <tr>\n",
       "      <th>roll_num</th>\n",
       "      <th>die_num</th>\n",
       "      <th></th>\n",
       "    </tr>\n",
       "  </thead>\n",
       "  <tbody>\n",
       "    <tr>\n",
       "      <th>0</th>\n",
       "      <th>0</th>\n",
       "      <td>a</td>\n",
       "    </tr>\n",
       "    <tr>\n",
       "      <th>1</th>\n",
       "      <th>0</th>\n",
       "      <td>1</td>\n",
       "    </tr>\n",
       "    <tr>\n",
       "      <th>0</th>\n",
       "      <th>1</th>\n",
       "      <td>1</td>\n",
       "    </tr>\n",
       "    <tr>\n",
       "      <th>1</th>\n",
       "      <th>1</th>\n",
       "      <td>3</td>\n",
       "    </tr>\n",
       "  </tbody>\n",
       "</table>\n",
       "</div>"
      ],
      "text/plain": [
       "                 die_face\n",
       "roll_num die_num         \n",
       "0        0              a\n",
       "1        0              1\n",
       "0        1              1\n",
       "1        1              3"
      ]
     },
     "execution_count": 492,
     "metadata": {},
     "output_type": "execute_result"
    }
   ],
   "source": [
    "#test showResult method with narrow\n",
    "game1.showResult('narrow')"
   ]
  },
  {
   "cell_type": "code",
   "execution_count": 280,
   "metadata": {},
   "outputs": [],
   "source": [
    "#create instance for Analyzer class"
   ]
  },
  {
   "cell_type": "code",
   "execution_count": null,
   "metadata": {},
   "outputs": [],
   "source": [
    "#test face counts per roll method"
   ]
  },
  {
   "cell_type": "code",
   "execution_count": null,
   "metadata": {},
   "outputs": [],
   "source": [
    "#test jackpot method"
   ]
  },
  {
   "cell_type": "code",
   "execution_count": null,
   "metadata": {},
   "outputs": [],
   "source": [
    "#test combo method"
   ]
  },
  {
   "cell_type": "code",
   "execution_count": 207,
   "metadata": {},
   "outputs": [],
   "source": [
    "    #test on jupityr with print statements\n",
    "    #save as .py file\n",
    "    #start building tests - one+ per method (see M09 HW)\n",
    "    #save as .py file\n",
    "    #save final test results in a txt file (see M09 HW)\n",
    "    #create init file for installation (see M010 HW)\n",
    "    #create scenarios in Jupityr notebook\n",
    "    #create/organize directory (see MO10 HW)\n",
    "    #install (see MO10 HW)\n",
    "    #create a README file\n",
    "    #put file in Github, save as PDF, submit\n"
   ]
  },
  {
   "cell_type": "markdown",
   "metadata": {},
   "source": [
    "# Test Module"
   ]
  },
  {
   "cell_type": "code",
   "execution_count": null,
   "metadata": {},
   "outputs": [],
   "source": [
    "# A code block with your test code."
   ]
  },
  {
   "cell_type": "markdown",
   "metadata": {},
   "source": [
    "# Test Results"
   ]
  },
  {
   "cell_type": "code",
   "execution_count": null,
   "metadata": {},
   "outputs": [],
   "source": [
    "# A text block with the output of a successful test."
   ]
  },
  {
   "cell_type": "markdown",
   "metadata": {},
   "source": [
    "# Scenarios\n",
    "\n",
    "Code blocks with your scenarios and their outputs. \n",
    "\n",
    "These should have appropriate import statements even though the code is now in the same notebook as the classes it calls. "
   ]
  },
  {
   "cell_type": "markdown",
   "metadata": {},
   "source": [
    "## Scenario 1"
   ]
  },
  {
   "cell_type": "code",
   "execution_count": null,
   "metadata": {},
   "outputs": [],
   "source": [
    "# Code blocks with output"
   ]
  },
  {
   "cell_type": "markdown",
   "metadata": {},
   "source": [
    "## Scenario 2"
   ]
  },
  {
   "cell_type": "code",
   "execution_count": null,
   "metadata": {},
   "outputs": [],
   "source": [
    "# Code blocks with output"
   ]
  },
  {
   "cell_type": "markdown",
   "metadata": {},
   "source": [
    "## Scenario 3"
   ]
  },
  {
   "cell_type": "code",
   "execution_count": null,
   "metadata": {},
   "outputs": [],
   "source": [
    "# Code blocks with output"
   ]
  },
  {
   "cell_type": "markdown",
   "metadata": {},
   "source": [
    "# Directory Listing\n",
    "\n",
    "A code block that executes the following bash command: \n",
    "\n",
    "```bash\n",
    "!ls -lRF -o\n",
    "```"
   ]
  },
  {
   "cell_type": "code",
   "execution_count": null,
   "metadata": {},
   "outputs": [],
   "source": [
    "!ls -lRF -o"
   ]
  },
  {
   "cell_type": "markdown",
   "metadata": {
    "tags": []
   },
   "source": [
    "# Installation Output Listing\n",
    "    \n",
    "A code block that executes the code to install your your package and outputs a successful installation."
   ]
  },
  {
   "cell_type": "code",
   "execution_count": null,
   "metadata": {},
   "outputs": [],
   "source": [
    "# Installation commands"
   ]
  },
  {
   "cell_type": "code",
   "execution_count": null,
   "metadata": {},
   "outputs": [],
   "source": []
  }
 ],
 "metadata": {
  "kernelspec": {
   "display_name": "Python 3",
   "language": "python",
   "name": "python3"
  },
  "language_info": {
   "codemirror_mode": {
    "name": "ipython",
    "version": 3
   },
   "file_extension": ".py",
   "mimetype": "text/x-python",
   "name": "python",
   "nbconvert_exporter": "python",
   "pygments_lexer": "ipython3",
   "version": "3.8.8"
  },
  "widgets": {
   "application/vnd.jupyter.widget-state+json": {
    "state": {},
    "version_major": 2,
    "version_minor": 0
   }
  }
 },
 "nbformat": 4,
 "nbformat_minor": 5
}
