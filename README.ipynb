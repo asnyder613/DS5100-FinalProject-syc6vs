<<<<<<< HEAD
{
 "cells": [
  {
   "cell_type": "markdown",
   "metadata": {},
   "source": [
    "# DS5100-FinalProject-syc6vs\n",
    "Final Project for DS5100\n",
    "\n",
    "**Metadata**\n",
    "Name: Abigail Snyder\n",
    "UVA id: syc6vs\n",
    "Project name: Monte Carlo Simulator\n",
    "\n",
    "**Synopsis**\n",
    "The first step is to import the module. From the root of this package, run pip install ..\n",
    "\n",
    "Then, following the instructions in the __init__.py file, run the following list of import statements to be prepared to use the module. "
   ]
  },
  {
   "cell_type": "code",
   "execution_count": null,
   "metadata": {},
   "outputs": [],
   "source": [
    "#Run the following import lines to be ready to use the module:\n",
    "import pandas as pd\n",
    "import numpy as np\n",
    "import random\n",
    "import itertools \n",
    "\n",
    "#If you will be using the montecarlo_demo notebook, also load:\n",
    "import string"
   ]
  },
  {
   "cell_type": "markdown",
   "metadata": {},
   "source": [
    "**The module consists of the following classes and methods:**\n",
    "\n",
    "****class Die:****\n",
    "    A class to set the characteristics of a Die to be used in a Monte Carlo simulation.\n",
    "\n",
    "    Methods\n",
    "    -------\n",
    "    weight:\n",
    "        changes the weight of a single side of the die\n",
    "    roll:\n",
    "        rolls the die one or more times\n",
    "    reveal:\n",
    "        shows the user the die's current set of faces and weights\n",
    "\n",
    "****class Game:****\n",
    "    A class to create a game that rolls one or more die of the same kind one or more times\n",
    "\n",
    "    Methods\n",
    "    -------\n",
    "    play:\n",
    "        plays the game by rolling the die and then saves the results of the play\n",
    "\n",
    "    showResult:\n",
    "        shows the user the results of the most recent play\n",
    "\n",
    "****class Analyzer:****\n",
    "    A class to take the results of a single game and compute various descriptive statistical properties about it\n",
    "\n",
    "    Methods\n",
    "    -------\n",
    "    face counts per roll:\n",
    "        computes how many times a given face is rolled in each event\n",
    "\n",
    "    jackpot:\n",
    "        computes how many times the game resulted in all faces being identical\n",
    "\n",
    "    combo:\n",
    "        computes the distinct combinations of faces rolled, along with their counts\n"
   ]
  },
  {
   "cell_type": "markdown",
   "metadata": {},
   "source": [
    "**How to use the module:**\n",
    "\n",
    "To create a die game, start by creating an instance of the die. Assume you want a coin with sides 'H' and 'T':"
   ]
  },
  {
   "cell_type": "code",
   "execution_count": null,
   "metadata": {},
   "outputs": [],
   "source": [
    "#create a coin\n",
    "diefaces = ['H', 'T']\n",
    "firstdie = mc.Die(diefaces)"
   ]
  },
  {
   "cell_type": "markdown",
   "metadata": {},
   "source": [
    "Then, if you want to change the weight of the die faces, use the changeweights method. \n",
    "\n",
    "Here, we make the \"T\" face of the die weigh 2.0. The default weight is 1.0. "
   ]
  },
  {
   "cell_type": "code",
   "execution_count": null,
   "metadata": {},
   "outputs": [],
   "source": [
    "#change weight on unfair coin\n",
    "firstdie.changeweight('T', 2.0)"
   ]
  },
  {
   "cell_type": "markdown",
   "metadata": {},
   "source": [
    "Once you have created your die, you can roll that single die by calling the roll method and passing an integer of how many times you would like the die to be rolled. "
   ]
  },
  {
   "cell_type": "code",
   "execution_count": null,
   "metadata": {},
   "outputs": [],
   "source": [
    "#roll the die 3 times\n",
    "firstdie.roll(3)"
   ]
  },
  {
   "cell_type": "markdown",
   "metadata": {},
   "source": [
    "The Die class also offers a method to view the die object that you created using the reveal method."
   ]
  },
  {
   "cell_type": "code",
   "execution_count": null,
   "metadata": {},
   "outputs": [],
   "source": [
    "#see your die\n",
    "firstdie.reveal()"
   ]
  },
  {
   "cell_type": "markdown",
   "metadata": {},
   "source": [
    "To play a game, start by creating a list of die objects (that you've created using the Die class) to be \"rolled.\"\n",
    "\n",
    "Below, we create a game instance using two identical die, and then roll the die 5 times. "
   ]
  },
  {
   "cell_type": "code",
   "execution_count": null,
   "metadata": {},
   "outputs": [],
   "source": [
    "#create list of die instances to be used in first game\n",
    "game1die = [firstdie, firstdie]\n",
    "\n",
    "#create instance of game\n",
    "game1 = mc.Game(game1die)\n",
    "\n",
    "#play game with 5 \"rolls\"\n",
    "game1.play(5)"
   ]
  },
  {
   "cell_type": "markdown",
   "metadata": {},
   "source": [
    "If you would like to see the results of your roll, call the showresult method. The return value will be a dataframe containing the results of your game. You may pass either 'wide' or 'narrow' as an argument to determine the format of the returned dataframe. "
   ]
  },
  {
   "cell_type": "code",
   "execution_count": null,
   "metadata": {},
   "outputs": [],
   "source": [
    "#get result of game in narrow table\n",
    "game1.showResult('narrow')"
   ]
  },
  {
   "cell_type": "markdown",
   "metadata": {},
   "source": [
    "The Analyzer class gives three methods to analyze the results of your game. \n",
    "\n",
    "First, face_counts_per_roll allows you to see how many unique values resulted in each roll. "
   ]
  },
  {
   "cell_type": "code",
   "execution_count": null,
   "metadata": {},
   "outputs": [],
   "source": [
    "#start by initializing an instance of Analyze\n",
    "analyze1 = mc.Analyzer(game1)\n",
    "\n",
    "#then call the facecounts method\n",
    "analyze1.face_counts_per_roll"
   ]
  },
  {
   "cell_type": "markdown",
   "metadata": {},
   "source": [
    "The jackpot method calculates the number of jackpots (where all of the faces in a given roll are identical) in your game. "
   ]
  },
  {
   "cell_type": "code",
   "execution_count": null,
   "metadata": {},
   "outputs": [],
   "source": [
    "#call jackpot method\n",
    "analyze1.jackpot()"
   ]
  },
  {
   "cell_type": "markdown",
   "metadata": {},
   "source": [
    "Finally, the count method returns a dataframe of each unique combination of die faces in the game, as well as a count of how often each combination was rolled. "
   ]
  },
  {
   "cell_type": "code",
   "execution_count": null,
   "metadata": {},
   "outputs": [],
   "source": [
    "analyze1.combo()"
   ]
  },
  {
   "cell_type": "markdown",
   "metadata": {},
   "source": [
    "**API description**"
   ]
  },
  {
   "cell_type": "code",
   "execution_count": null,
   "metadata": {},
   "outputs": [],
   "source": [
    "class Die():\n",
    "    \"\"\"\n",
    "    A class to set the characteristics of a Die to be used in a Monte Carlo simulation.\n",
    "    ...\n",
    "\n",
    "    Attributes\n",
    "    ----------\n",
    "    faces : str or int\n",
    "        an array of faces\n",
    "    weights : float\n",
    "        the weight of a given side of the die, default is 1.0\n",
    "\n",
    "    Methods\n",
    "    -------\n",
    "    __init__:\n",
    "        initializes the Die object\n",
    "        parameters: faces (a list of die faces made up of int or str)\n",
    "        returns None\n",
    "    \n",
    "    changeweight:\n",
    "        changes the weight of a single side of the die\n",
    "        parameters: face (the face to be changed, int or str), weight (the new weight, float)\n",
    "        returns None\n",
    "        \n",
    "    roll:\n",
    "        rolls the die one or more times\n",
    "        parameters: roll_num (how many times to roll the die, int [default=1])\n",
    "        return: a data frame of the results of each roll\n",
    "        \n",
    "    reveal:\n",
    "        shows the user the die's current set of faces and weights\n",
    "        parameters None\n",
    "        return: a data frame of the die instance showing faces and corresponding weights\n",
    "    \"\"\"\n"
   ]
  },
  {
   "cell_type": "code",
   "execution_count": null,
   "metadata": {},
   "outputs": [],
   "source": [
    "class Game():\n",
    "    \"\"\"\n",
    "    A class to create a game that rolls one or more die of the same kind one or more times\n",
    "    ...\n",
    "\n",
    "    Attributes\n",
    "    ----------\n",
    "    dieList : list\n",
    "        a list of already instantiated similar die objects\n",
    "\n",
    "    frame : str\n",
    "        \"narrow\" or \"wide\" to determine format of displayed dataframe\n",
    "\n",
    "    Methods\n",
    "    -------\n",
    "    __init__:\n",
    "        initializes the game\n",
    "        parameters: dieList (a list of Die objects, list)\n",
    "        return: None\n",
    "    \n",
    "    play:\n",
    "        plays the game by rolling the die and then saves the results of the play\n",
    "        parameters: rollDie (how many times to roll the die, int)\n",
    "        return: None\n",
    "        \n",
    "    showResult:\n",
    "        shows the user the results of the most recent play\n",
    "        parameters: frame (which format to display the data, 'wide' or 'narrow' [default is 'wide'])\n",
    "        returns: a dataframe in the format indicated with the results of the game\n",
    "    \"\"\"\n"
   ]
  }
 ],
 "metadata": {
  "kernelspec": {
   "display_name": "Python 3",
   "language": "python",
   "name": "python3"
  },
  "language_info": {
   "codemirror_mode": {
    "name": "ipython",
    "version": 3
   },
   "file_extension": ".py",
   "mimetype": "text/x-python",
   "name": "python",
   "nbconvert_exporter": "python",
   "pygments_lexer": "ipython3",
   "version": "3.8.8"
  }
 },
 "nbformat": 4,
 "nbformat_minor": 4
}
=======
# DS5100-FinalProject-syc6vs
Final Project for DS5100

**Metadata**
Name: Abigail Snyder
UVA id: syc6vs
Project name: Monte Carlo Simulator

**Synopsis**
Show simple demo code of how the classes are used, i.e.

Installation:
From the root of this package, run pip install ..
It is necessary to run the following package installation in order to run this module:
    import pandas as pd
    import numpy as np
    import random
    import itertools 

importing
Creating dice objects
Playing games
Analyzing games

**API description**
A list of all classes with their public methods and attributes.
For each method:
Show the docstring
List and describe all parameters (with data types and defaults)
List and describe return values, if any
Do not describe private methods and attributes
>>>>>>> e73058cba924af26c2c6fc278ef5e51bb2addc58
