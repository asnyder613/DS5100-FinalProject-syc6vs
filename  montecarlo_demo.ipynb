{
 "cells": [
  {
   "cell_type": "markdown",
   "metadata": {},
   "source": [
    "# Welcome to the Monte Carlo Die Game Simulator!"
   ]
  },
  {
   "cell_type": "markdown",
   "metadata": {},
   "source": [
    "Follow these steps to walk through several scenarios using the simulator. \n",
    "\n",
    "The first step is to import the module. From the root of this package, run pip install ..\n",
    "\n",
    "Then, following the instructions in the __init__.py file, run the following list of import statements to be prepared to use the module. "
   ]
  },
  {
   "cell_type": "code",
   "execution_count": 1,
   "metadata": {},
   "outputs": [],
   "source": [
    "#Please run the following import lines to be ready to use the module:\n",
    "import pandas as pd\n",
    "import numpy as np\n",
    "import random\n",
    "import itertools \n",
    "\n",
    "#if you will be using the montecarlo_demo notebook, also load:\n",
    "import string"
   ]
  },
  {
   "cell_type": "code",
   "execution_count": 6,
   "metadata": {},
   "outputs": [],
   "source": [
    "#import the montecarlo module\n",
    "from montecarlo import montecarlo as mc"
   ]
  },
  {
   "cell_type": "markdown",
   "metadata": {},
   "source": [
    "## Scenario 1"
   ]
  },
  {
   "cell_type": "markdown",
   "metadata": {},
   "source": [
    "#### Create one fair coin (with faces H and T) and one unfair coin. \n",
    "\n",
    "To do this, create an instance of each die. "
   ]
  },
  {
   "cell_type": "code",
   "execution_count": null,
   "metadata": {},
   "outputs": [],
   "source": [
    "#create one fair coin\n",
    "fairfaces = ['H', 'T']\n",
    "faircoin = mc.Die(fairfaces)\n",
    "\n",
    "#create one unfair coin\n",
    "unfairfaces = ['H', 'T']\n",
    "unfaircoin = mc.Die(unfairfaces)"
   ]
  },
  {
   "cell_type": "markdown",
   "metadata": {},
   "source": [
    "Then, change the weight on the unfair coin so that one side has a weight of 5.0. "
   ]
  },
  {
   "cell_type": "code",
   "execution_count": null,
   "metadata": {},
   "outputs": [],
   "source": [
    "#change weight on unfair coin\n",
    "unfaircoin.changeweight('H', 5.0)"
   ]
  },
  {
   "cell_type": "markdown",
   "metadata": {},
   "source": [
    "#### Play a game of 1000 flips of three coins with all fair dice.\n",
    "\n",
    "Start by creating a list of die instances to be used in the first game, then create an instance of the game. \n",
    "\n",
    "Finally, play the game with 1000 \"rolls\"."
   ]
  },
  {
   "cell_type": "code",
   "execution_count": null,
   "metadata": {},
   "outputs": [],
   "source": [
    "#create list of die instances to be used in first game\n",
    "game1coins = [faircoin, faircoin, faircoin]\n",
    "\n",
    "#create instance of game\n",
    "game1 = mc.Game(game1coins)\n",
    "\n",
    "#play game with 1000 \"rolls\"\n",
    "game1.play(1000)"
   ]
  },
  {
   "cell_type": "markdown",
   "metadata": {},
   "source": [
    "#### Play a game of 1000 flips with two unfair dice and one fair die.\n",
    "\n",
    "Start by creating a list of die instances to be used in the first game, then create an instance of the game. \n",
    "\n",
    "Finally, play the game with 1000 \"rolls\"."
   ]
  },
  {
   "cell_type": "code",
   "execution_count": null,
   "metadata": {},
   "outputs": [],
   "source": [
    "#create list of die instances to be used in second game\n",
    "game2coins = [faircoin, unfaircoin, unfaircoin]\n",
    "\n",
    "#create second instance of game\n",
    "game2 = mc.Game(game2coins)\n",
    "\n",
    "#play second game with 1000 \"rolls\"\n",
    "game2.play(1000)"
   ]
  },
  {
   "cell_type": "markdown",
   "metadata": {},
   "source": [
    "#### For each game, use an Analyzer object to determine the relative frequency of jackpots – getting either all Hs or all Ts.\n",
    "\n",
    "For each game, we need to use the jackpot method to find out how many jackpots occured. \n",
    "\n",
    "Then, we can calculate the relative frequency (number of jackpots over number of rolls) for each game. "
   ]
  },
  {
   "cell_type": "code",
   "execution_count": null,
   "metadata": {},
   "outputs": [],
   "source": [
    "#get number of jackpots in game 1\n",
    "#create instance for analyzer\n",
    "analyze1 = mc.Analyzer(game1)\n",
    "jackpot1 = analyze1.jackpot()\n",
    "\n",
    "#get number of jackpots in game 2\n",
    "#create instance for analyzer\n",
    "analyze2 = mc.Analyzer(game2)\n",
    "jackpot2 = analyze2.jackpot()\n",
    "\n",
    "#calculate relative frequency (number of jackpots over number of rolls) for game 1\n",
    "relFreq1 = jackpot1 / 1000\n",
    "\n",
    "#calculate relative frequency (number of jackpots over number of rolls) for game 2\n",
    "relFreq2 = jackpot2 / 1000"
   ]
  },
  {
   "cell_type": "markdown",
   "metadata": {},
   "source": [
    "#### Show your results in a simple bar chart comparing the two relative frequencies\n",
    "\n",
    "Before putting the results in a bar chart, use the code block before to compile the results into a simple data frame.\n",
    "\n",
    "Then, produce the bar chart from the dataframe. "
   ]
  },
  {
   "cell_type": "code",
   "execution_count": null,
   "metadata": {},
   "outputs": [],
   "source": [
    "#show reults in simple bar chart\n",
    "compareFreq = {'fairgame': relFreq1,\n",
    "               'unfairgame': relFreq2}\n",
    "freqdf = pd.DataFrame(compareFreq, index=[0])\n",
    "\n",
    "#df = pd.DataFrame({'lab':['A', 'B', 'C'], 'val':[10, 30, 20]})\n",
    "plot1 = freqdf.plot.bar(rot=0, title=\"Relative Frequency Chart\", xlabel=\"Jackpots per Game\", ylabel=\"Frequency\")"
   ]
  },
  {
   "cell_type": "markdown",
   "metadata": {},
   "source": [
    "## Scenario 2"
   ]
  },
  {
   "cell_type": "markdown",
   "metadata": {},
   "source": [
    "#### Create a fair die and two unfair dice, all of six sides with the faces 1 through 6. \n",
    "\n",
    "To do this, create an instance of each die. \n"
   ]
  },
  {
   "cell_type": "code",
   "execution_count": null,
   "metadata": {},
   "outputs": [],
   "source": [
    "#create one fair die with six sides\n",
    "diefaces2 = [1, 2, 3, 4, 5, 6]\n",
    "fairdie1 = mc.Die(diefaces2)\n",
    "\n",
    "#create two unfair dice\n",
    "unfairfaces = [1, 2, 3, 4, 5, 6]\n",
    "unfairdie1 = mc.Die(diefaces2)\n",
    "unfairdie2 = mc.Die(diefaces2)\n"
   ]
  },
  {
   "cell_type": "markdown",
   "metadata": {},
   "source": [
    "#### One unfair die will weigh 6 five times more than the others (i.e. it has weight of 5 and the others a weight of 1 each). The other unfair die will weight 1 five times more than the others.\n",
    "\n",
    "To do this, use the \"ChangeWeight\" method to change the weight of each die face accordingly. \n",
    "\n",
    "In the argument, use the die face to be changed, and match it with the new die weight. Remember that the default weight of each face is 1.0.\n"
   ]
  },
  {
   "cell_type": "code",
   "execution_count": null,
   "metadata": {},
   "outputs": [],
   "source": [
    "#change weight on unfair dice\n",
    "unfairdie1.changeweight(6, 5.0)\n",
    "unfairdie2.changeweight(1, 5.0)"
   ]
  },
  {
   "cell_type": "markdown",
   "metadata": {},
   "source": [
    "#### Play a game of 10000 rolls with 5 fair dice.\n",
    "\n",
    "Start by creating a list of die instances to be used in the first game, then create an instance of the game. \n",
    "\n",
    "Finally, play the game with 1000 \"rolls\"."
   ]
  },
  {
   "cell_type": "code",
   "execution_count": null,
   "metadata": {},
   "outputs": [],
   "source": [
    "#create list of die instances to be used in first game\n",
    "game3die = [fairdie1, fairdie1, fairdie1, fairdie1, fairdie1]\n",
    "\n",
    "#create instance of game\n",
    "game3 = mc.Game(game3die)\n",
    "\n",
    "#play game with 1000 \"rolls\"\n",
    "game3.play(1000)"
   ]
  },
  {
   "cell_type": "markdown",
   "metadata": {},
   "source": [
    "#### Play a game of 10000 rolls with 2 unfair dice of type 1, 1 unfair die of type 2, and the rest fair dice.\n",
    "\n",
    "Start by creating a list of die instances to be used in the first game, then create an instance of the game. \n",
    "\n",
    "Finally, play the game with 1000 \"rolls\"."
   ]
  },
  {
   "cell_type": "code",
   "execution_count": null,
   "metadata": {},
   "outputs": [],
   "source": [
    "#create list of die instances to be used in second game\n",
    "game4coins = [unfairdie1, unfairdie1, unfairdie2, fairdie1, fairdie1]\n",
    "\n",
    "#create second instance of game\n",
    "game4 = mc.Game(game4coins)\n",
    "\n",
    "#play second game with 1000 \"rolls\"\n",
    "game4.play(1000)"
   ]
  },
  {
   "cell_type": "markdown",
   "metadata": {},
   "source": [
    "#### For each game, use an Analyzer object to determine the relative frequency of jackpots and show your results, comparing the two relative frequencies, in a simple bar chart.\n",
    "\n",
    "For each game, we need to use the jackpot method to find out how many jackpots occured. \n",
    "\n",
    "Then, we can calculate the relative frequency (number of jackpots over number of rolls) for each game. "
   ]
  },
  {
   "cell_type": "code",
   "execution_count": 5,
   "metadata": {},
   "outputs": [
    {
     "ename": "NameError",
     "evalue": "name 'game3' is not defined",
     "output_type": "error",
     "traceback": [
      "\u001b[0;31m---------------------------------------------------------------------------\u001b[0m",
      "\u001b[0;31mNameError\u001b[0m                                 Traceback (most recent call last)",
      "\u001b[0;32m<ipython-input-5-c553c9577d3b>\u001b[0m in \u001b[0;36m<module>\u001b[0;34m\u001b[0m\n\u001b[1;32m      1\u001b[0m \u001b[0;31m#get number of jackpots in game 1\u001b[0m\u001b[0;34m\u001b[0m\u001b[0;34m\u001b[0m\u001b[0;34m\u001b[0m\u001b[0m\n\u001b[1;32m      2\u001b[0m \u001b[0;31m#create instance for analyzer\u001b[0m\u001b[0;34m\u001b[0m\u001b[0;34m\u001b[0m\u001b[0;34m\u001b[0m\u001b[0m\n\u001b[0;32m----> 3\u001b[0;31m \u001b[0manalyze3\u001b[0m \u001b[0;34m=\u001b[0m \u001b[0mmc\u001b[0m\u001b[0;34m.\u001b[0m\u001b[0mAnalyzer\u001b[0m\u001b[0;34m(\u001b[0m\u001b[0mgame3\u001b[0m\u001b[0;34m)\u001b[0m\u001b[0;34m\u001b[0m\u001b[0;34m\u001b[0m\u001b[0m\n\u001b[0m\u001b[1;32m      4\u001b[0m \u001b[0mjackpot3\u001b[0m \u001b[0;34m=\u001b[0m \u001b[0manalyze3\u001b[0m\u001b[0;34m.\u001b[0m\u001b[0mjackpot\u001b[0m\u001b[0;34m(\u001b[0m\u001b[0;34m)\u001b[0m\u001b[0;34m\u001b[0m\u001b[0;34m\u001b[0m\u001b[0m\n\u001b[1;32m      5\u001b[0m \u001b[0;34m\u001b[0m\u001b[0m\n",
      "\u001b[0;31mNameError\u001b[0m: name 'game3' is not defined"
     ]
    }
   ],
   "source": [
    "#get number of jackpots in game 1\n",
    "#create instance for analyzer\n",
    "analyze3 = mc.Analyzer(game3)\n",
    "jackpot3 = analyze3.jackpot()\n",
    "\n",
    "#get number of jackpots in game 2\n",
    "#create instance for analyzer\n",
    "analyze4 = mc.Analyzer(game4)\n",
    "jackpot4 = analyze4.jackpot()\n",
    "\n",
    "#calculate relative frequency (number of jackpots over number of rolls) for game 1\n",
    "relFreq3 = jackpot3 / 1000\n",
    "\n",
    "#calculate relative frequency (number of jackpots over number of rolls) for game 2\n",
    "relFreq4 = jackpot4 / 1000"
   ]
  },
  {
   "cell_type": "markdown",
   "metadata": {},
   "source": [
    "#### Show your results in a simple bar chart comparing the two relative frequencies\n",
    "\n",
    "Before putting the results in a bar chart, use the code block before to compile the results into a simple data frame.\n",
    "\n",
    "Then, produce the bar chart from the dataframe. "
   ]
  },
  {
   "cell_type": "code",
   "execution_count": null,
   "metadata": {},
   "outputs": [],
   "source": [
    "#show reults in simple bar chart\n",
    "compareFreq1 = {'fairgame': relFreq3,\n",
    "               'unfairgame': relFreq4}\n",
    "freqdf1 = pd.DataFrame(compareFreq1, index=[0])\n",
    "plot2 = freqdf1.plot.bar(rot=0, title=\"Relative Frequency Chart\", xlabel=\"Jackpots per Game\", ylabel=\"Frequency\")"
   ]
  },
  {
   "cell_type": "markdown",
   "metadata": {},
   "source": [
    "#### Compute the 10 most frequent combinations of faces for each game. Plot each of these as bar charts.\n",
    "\n",
    "For this, we use the combo method and create an instance for each game. \n",
    "\n",
    "To be able to find the 10 most frequent combinations, we combine the two results into a single dataframe, and then sort them by the number of instances for each combination and use the head() function to return just the top 10. \n",
    "\n",
    "Finally, we plot it as a bar chart. "
   ]
  },
  {
   "cell_type": "code",
   "execution_count": null,
   "metadata": {},
   "outputs": [],
   "source": [
    "#compute 10 most frequent combinations & plot as a bar chart\n",
    "combo3 = analyze3.combo()\n",
    "combo4 = analyze4.combo()\n",
    "\n",
    "#combine list of combinations into one dataframe\n",
    "freqCombine = pd.concat([combo3, combo4], axis=0)\n",
    "\n",
    "#sort by highest number of combinations\n",
    "sortedCombine = freqCombine.sort_values(by=['number_of_instances'], ascending=False)\n",
    "sortedCombine.head(10)\n",
    "\n",
    "#plot as a bar chart\n",
    "plot3 = sortedCombine.head(10).plot.bar(rot=0, title=\"Highest Number of Combinations\")"
   ]
  },
  {
   "cell_type": "markdown",
   "metadata": {},
   "source": [
    "## Scenario 3"
   ]
  },
  {
   "cell_type": "markdown",
   "metadata": {},
   "source": [
    "#### Create a \"die\" of letters from a to z with weights based on their frequency of usage. \n",
    "\n",
    "To do this, create an instance of the die, using the string() method to create a list of each lowercase letter in the alphabet. \n",
    "\n",
    "Also create a list of the frequency of usage (in alphabetical order). \n",
    "\n",
    "With a list comprehension to apply the appropriate frequency to the correct letter, use the changeweight method to apply the weights accordingly.\n"
   ]
  },
  {
   "cell_type": "code",
   "execution_count": null,
   "metadata": {},
   "outputs": [],
   "source": [
    "#create die with alphabet as faces\n",
    "alphabet = list(string.ascii_lowercase)\n",
    "letterdie = mc.Die(alphabet)\n",
    "\n",
    "#weights based on frequency of usage\n",
    "frequencyList = [8.4966, 2.0720, 4.5388, 3.3844, 11.1607, 1.8121, \n",
    "                 2.4705, 3.0034, 7.5448, 0.1965, 1.1016, 5.4893, \n",
    "                 3.0129, 6.6544, 7.1635, 3.1671, 0.1962, 7.5809,\n",
    "                 5.7351, 6.9509, 3.6308, 1.0074, 1.2899, 0.2902,\n",
    "                 1.7779, 0.2722]\n",
    "\n",
    "#apply frequency to letter to change die weight accordingly\n",
    "[letterdie.changeweight(x, y) for x, y in zip(alphabet, frequencyList)]"
   ]
  },
  {
   "cell_type": "markdown",
   "metadata": {},
   "source": [
    "#### Play a game involving 5 of these dice with 1000 rolls.\n",
    "\n",
    "Start by creating a list of die instances to be used in the game, then create an instance of the game. \n",
    "\n",
    "Finally, play the game with 1000 \"rolls\"."
   ]
  },
  {
   "cell_type": "code",
   "execution_count": null,
   "metadata": {},
   "outputs": [],
   "source": [
    "#create list of die instances to be used in first game\n",
    "game5die = [letterdie, letterdie, letterdie, letterdie, letterdie]\n",
    "\n",
    "#create instance of game\n",
    "game5 = mc.Game(game5die)\n",
    "\n",
    "#play game with 1000 \"rolls\"\n",
    "game5.play(1000)"
   ]
  },
  {
   "cell_type": "markdown",
   "metadata": {},
   "source": [
    "#### Generate 10 random samples of 10 from your data and count the number of times you see a word that looks like an English word in each sample. Keep a running count; this will result in an estimate of the percent of English words in the data. \n",
    "\n",
    "This will require some hands-on work from you as the user. Start by running the code block before 10 times and keeping a running count of any words that look like an English word. "
   ]
  },
  {
   "cell_type": "code",
   "execution_count": null,
   "metadata": {},
   "outputs": [],
   "source": [
    "#run this code 10 times and count any words that look like an English word\n",
    "sample1 = game5.playResults.sample(n = 10)\n",
    "sample1"
   ]
  },
  {
   "cell_type": "markdown",
   "metadata": {},
   "source": [
    "For my practice run, my results were:\n",
    "\n",
    "Running count: 0\n",
    "\n",
    "Estimate of percent of English words in the data: 0%"
   ]
  }
 ],
 "metadata": {
  "kernelspec": {
   "display_name": "Python 3",
   "language": "python",
   "name": "python3"
  },
  "language_info": {
   "codemirror_mode": {
    "name": "ipython",
    "version": 3
   },
   "file_extension": ".py",
   "mimetype": "text/x-python",
   "name": "python",
   "nbconvert_exporter": "python",
   "pygments_lexer": "ipython3",
   "version": "3.8.8"
  }
 },
 "nbformat": 4,
 "nbformat_minor": 4
}
